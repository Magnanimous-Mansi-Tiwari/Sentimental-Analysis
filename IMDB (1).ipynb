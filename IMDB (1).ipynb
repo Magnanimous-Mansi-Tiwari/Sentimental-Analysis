{
  "nbformat": 4,
  "nbformat_minor": 0,
  "metadata": {
    "colab": {
      "name": "IMDB.ipynb",
      "provenance": [],
      "collapsed_sections": [],
      "toc_visible": true
    },
    "kernelspec": {
      "name": "python3",
      "display_name": "Python 3"
    },
    "accelerator": "GPU"
  },
  "cells": [
    {
      "cell_type": "code",
      "metadata": {
        "id": "5WgzkUYhPyt4",
        "colab_type": "code",
        "colab": {
          "base_uri": "https://localhost:8080/",
          "height": 292
        },
        "outputId": "ea8db604-ee98-4de1-cc39-5c9d66a5e0ea"
      },
      "source": [
        "!pip install numpy==1.16.1\n",
        "import numpy as np"
      ],
      "execution_count": null,
      "outputs": [
        {
          "output_type": "stream",
          "text": [
            "Collecting numpy==1.16.1\n",
            "\u001b[?25l  Downloading https://files.pythonhosted.org/packages/f5/bf/4981bcbee43934f0adb8f764a1e70ab0ee5a448f6505bd04a87a2fda2a8b/numpy-1.16.1-cp36-cp36m-manylinux1_x86_64.whl (17.3MB)\n",
            "\u001b[K     |████████████████████████████████| 17.3MB 9.1MB/s \n",
            "\u001b[31mERROR: datascience 0.10.6 has requirement folium==0.2.1, but you'll have folium 0.8.3 which is incompatible.\u001b[0m\n",
            "\u001b[31mERROR: albumentations 0.1.12 has requirement imgaug<0.2.7,>=0.2.5, but you'll have imgaug 0.2.9 which is incompatible.\u001b[0m\n",
            "\u001b[?25hInstalling collected packages: numpy\n",
            "  Found existing installation: numpy 1.16.4\n",
            "    Uninstalling numpy-1.16.4:\n",
            "      Successfully uninstalled numpy-1.16.4\n",
            "Successfully installed numpy-1.16.1\n"
          ],
          "name": "stdout"
        },
        {
          "output_type": "display_data",
          "data": {
            "application/vnd.colab-display-data+json": {
              "pip_warning": {
                "packages": [
                  "numpy"
                ]
              }
            }
          },
          "metadata": {
            "tags": []
          }
        }
      ]
    },
    {
      "cell_type": "code",
      "metadata": {
        "id": "O5vk6OQpH0KX",
        "colab_type": "code",
        "colab": {
          "base_uri": "https://localhost:8080/",
          "height": 34
        },
        "outputId": "9e57a223-f9c8-4e4b-e902-f06790434df0"
      },
      "source": [
        "from keras.datasets import imdb\n",
        "from keras.models import Sequential \n",
        "from keras.layers import LSTM,Embedding,Dense,Dropout\n",
        "from keras.preprocessing import sequence"
      ],
      "execution_count": null,
      "outputs": [
        {
          "output_type": "stream",
          "text": [
            "Using TensorFlow backend.\n"
          ],
          "name": "stderr"
        }
      ]
    },
    {
      "cell_type": "markdown",
      "metadata": {
        "id": "_Xc8qdHDM08a",
        "colab_type": "text"
      },
      "source": [
        "## Load the dataset"
      ]
    },
    {
      "cell_type": "code",
      "metadata": {
        "id": "I-HZE6etKU3M",
        "colab_type": "code",
        "colab": {}
      },
      "source": [
        "vocab_size=5000\n",
        "(x_train,y_train),(x_test,y_test)=imdb.load_data(num_words=vocab_size)"
      ],
      "execution_count": null,
      "outputs": []
    },
    {
      "cell_type": "code",
      "metadata": {
        "id": "8UGEkQopOhF1",
        "colab_type": "code",
        "colab": {}
      },
      "source": [
        "x_train[0]"
      ],
      "execution_count": null,
      "outputs": []
    },
    {
      "cell_type": "code",
      "metadata": {
        "id": "R2kUsIGQRAkP",
        "colab_type": "code",
        "colab": {
          "base_uri": "https://localhost:8080/",
          "height": 34
        },
        "outputId": "07868342-130d-4bcb-b0fb-b3a67e93596e"
      },
      "source": [
        "y_train"
      ],
      "execution_count": null,
      "outputs": [
        {
          "output_type": "execute_result",
          "data": {
            "text/plain": [
              "array([1, 0, 0, ..., 0, 1, 0])"
            ]
          },
          "metadata": {
            "tags": []
          },
          "execution_count": 3
        }
      ]
    },
    {
      "cell_type": "code",
      "metadata": {
        "id": "4fP-5guVNTvD",
        "colab_type": "code",
        "colab": {
          "base_uri": "https://localhost:8080/",
          "height": 51
        },
        "outputId": "5def2bed-26ff-408f-82a5-9fe63e2ac28f"
      },
      "source": [
        "#dictionary\n",
        "word2id=imdb.get_word_index()\n",
        "id2word={i:word for word,i in word2id.items()}"
      ],
      "execution_count": null,
      "outputs": [
        {
          "output_type": "stream",
          "text": [
            "Downloading data from https://s3.amazonaws.com/text-datasets/imdb_word_index.json\n",
            "1646592/1641221 [==============================] - 1s 0us/step\n"
          ],
          "name": "stdout"
        }
      ]
    },
    {
      "cell_type": "code",
      "metadata": {
        "id": "KBGdmzRMQ897",
        "colab_type": "code",
        "colab": {
          "base_uri": "https://localhost:8080/",
          "height": 54
        },
        "outputId": "8fefff53-ca26-4db9-bccb-f870580cfb6e"
      },
      "source": [
        "review=[id2word.get(i,'') for i in x_train[15]]\n",
        "print(review)"
      ],
      "execution_count": null,
      "outputs": [
        {
          "output_type": "stream",
          "text": [
            "['the', 'is', 'rate', 'hope', 'br', 'my', 'out', 'double', 'this', 'is', 'again', 'overwhelming', 'country', 'known', 'portrayed', 'desperation', 'memories', 'is', 'and', 'and', 'anyway', 'standard', 'planet', 'poem', 'late', 'and', 'to', 'performance', 'not', 'his', \"there's\", 'is', 'carrey', 'and', 'just', 'being', 'film', 'jerry', 'in', 'jerry', 'baby', 'and', 'to', 'murders', 'this', 'is', 'and', 'to', 'have', 'into', 'one', 'as', 'fall', 'issues', 'but', 'is', 'on', 'was', 'had', \"can't\", 'is', 'dark', 'some', 'br', 'of', 'needed', 'based', 'just', 'table', 'and', 'and', 'of', 'little', 'with', 'barely', 'may', 'and', 'to', 'country', 'presentation', \"don't\", 'plot', 'and', 'he', '12', 'in', 'could', 'is', 'blow', 'opportunity', 'lie', 'wood', 'are', 'is', 'late', 'helps', 'ii', 'wanted', 'not', 'nothing', 'from', 'lost', 'and', \"i'm\", 'and', 'jenny', 'as', 'with', 'keep', 'but', 'and', 'and', 'that', 'effects', 'just', 'is', 'remember', 'b', 'was', 'off', 'use', 'of', 'and', 'merely', 'and', 'this', 'of', 'ultimate', 'old']\n"
          ],
          "name": "stdout"
        }
      ]
    },
    {
      "cell_type": "code",
      "metadata": {
        "id": "N-JvIFugKfSh",
        "colab_type": "code",
        "colab": {}
      },
      "source": [
        "#calculate max/min length of any review\n",
        "mx=len(max(x_train+x_test,key=len))\n",
        "mn=len(min(x_train+x_test,key=len))\n",
        "#padding\n",
        "maxlen=50\n",
        "x_train1=sequence.pad_sequences(x_train, maxlen)\n",
        "x_test1=sequence.pad_sequences(x_test,maxlen)"
      ],
      "execution_count": null,
      "outputs": []
    },
    {
      "cell_type": "code",
      "metadata": {
        "id": "nkb9dCEdMLgl",
        "colab_type": "code",
        "colab": {}
      },
      "source": [
        "#split dataset into train and validation set\n",
        "valid_size=64\n",
        "x_train2=x_train1[valid_size:]\n",
        "x_val=x_train1[:valid_size]\n",
        "y_train2=y_train[valid_size:]\n",
        "y_valid=y_train[:valid_size]"
      ],
      "execution_count": null,
      "outputs": []
    },
    {
      "cell_type": "markdown",
      "metadata": {
        "id": "srP9BthfM5kk",
        "colab_type": "text"
      },
      "source": [
        "## The model"
      ]
    },
    {
      "cell_type": "code",
      "metadata": {
        "id": "dlPxGSEyK5Eu",
        "colab_type": "code",
        "colab": {}
      },
      "source": [
        "#model\n",
        "embedding_size=32\n",
        "model=Sequential()\n",
        "model.add(Embedding(vocab_size,embedding_size,input_length=maxlen))\n",
        "model.add(LSTM(100))\n",
        "model.add(Dense(1,activation='sigmoid'))"
      ],
      "execution_count": null,
      "outputs": []
    },
    {
      "cell_type": "code",
      "metadata": {
        "id": "Ve9gmyJcStRa",
        "colab_type": "code",
        "colab": {
          "base_uri": "https://localhost:8080/",
          "height": 272
        },
        "outputId": "589bffb0-05f0-4c44-d6f0-142c658ca22b"
      },
      "source": [
        "print(model.summary())\n",
        "model.compile(loss='binary_crossentropy',optimizer='adam',metrics=['accuracy'])"
      ],
      "execution_count": null,
      "outputs": [
        {
          "output_type": "stream",
          "text": [
            "_________________________________________________________________\n",
            "Layer (type)                 Output Shape              Param #   \n",
            "=================================================================\n",
            "embedding_3 (Embedding)      (None, 50, 32)            160000    \n",
            "_________________________________________________________________\n",
            "lstm_2 (LSTM)                (None, 100)               53200     \n",
            "_________________________________________________________________\n",
            "dense_2 (Dense)              (None, 1)                 101       \n",
            "=================================================================\n",
            "Total params: 213,301\n",
            "Trainable params: 213,301\n",
            "Non-trainable params: 0\n",
            "_________________________________________________________________\n",
            "None\n"
          ],
          "name": "stdout"
        }
      ]
    },
    {
      "cell_type": "code",
      "metadata": {
        "id": "dDzxx3GFfBq7",
        "colab_type": "code",
        "colab": {}
      },
      "source": [
        "checkpoint_path = \"training_1/cp.ckpt\"\n",
        "checkpoint_dir = os.path.dirname(checkpoint_path)\n",
        "\n",
        "# Create checkpoint callback\n",
        "cp_callback = tf.keras.callbacks.ModelCheckpoint(checkpoint_path,\n",
        "                                                 save_weights_only=True,\n",
        "                                                 verbose=1)"
      ],
      "execution_count": null,
      "outputs": []
    },
    {
      "cell_type": "markdown",
      "metadata": {
        "id": "60BgcK6LNDZb",
        "colab_type": "text"
      },
      "source": [
        "## Training"
      ]
    },
    {
      "cell_type": "code",
      "metadata": {
        "id": "CN5Ep-RuLflm",
        "colab_type": "code",
        "colab": {
          "base_uri": "https://localhost:8080/",
          "height": 146
        },
        "outputId": "053483c8-2222-4888-bd9b-4bc83d97aae2"
      },
      "source": [
        "num_epochs=1\n",
        "batch_size=32\n",
        "model.fit(x_train2,y_train2,validation_data=(x_val,y_valid),batch_size=batch_size,epochs=num_epochs,callbacks=[cp_callback])"
      ],
      "execution_count": null,
      "outputs": [
        {
          "output_type": "stream",
          "text": [
            "Train on 24936 samples, validate on 64 samples\n",
            "Epoch 1/1\n",
            "24936/24936 [==============================] - 57s 2ms/step - loss: 0.1600 - acc: 0.9372 - val_loss: 0.5512 - val_acc: 0.7969\n",
            "\n",
            "Epoch 00001: saving model to training_1/cp.ckpt\n"
          ],
          "name": "stdout"
        },
        {
          "output_type": "execute_result",
          "data": {
            "text/plain": [
              "<keras.callbacks.History at 0x7fb89c859128>"
            ]
          },
          "metadata": {
            "tags": []
          },
          "execution_count": 95
        }
      ]
    },
    {
      "cell_type": "code",
      "metadata": {
        "id": "vibWfYEeLsZt",
        "colab_type": "code",
        "colab": {
          "base_uri": "https://localhost:8080/",
          "height": 54
        },
        "outputId": "b2a2138f-fda1-4a6d-fb46-de543137ffce"
      },
      "source": [
        "scores=model.evaluate(x_test1,y_test,verbose=1)\n",
        "print(\"Acurracy= \"+str(scores[1]))"
      ],
      "execution_count": null,
      "outputs": [
        {
          "output_type": "stream",
          "text": [
            "25000/25000 [==============================] - 24s 947us/step\n",
            "Acurracy= 0.8056\n"
          ],
          "name": "stdout"
        }
      ]
    },
    {
      "cell_type": "markdown",
      "metadata": {
        "id": "RBAv1gGjNI02",
        "colab_type": "text"
      },
      "source": [
        "## Testing"
      ]
    },
    {
      "cell_type": "code",
      "metadata": {
        "id": "mkZZwM_wV3IS",
        "colab_type": "code",
        "colab": {}
      },
      "source": [
        "x_runtime=np.array(['it','was','a','very','bad','movie','the','story','was','awful','and','the' ,'acting','was' ,'pathetic'],dtype='object')"
      ],
      "execution_count": null,
      "outputs": []
    },
    {
      "cell_type": "code",
      "metadata": {
        "id": "ouB6_zZjXO-d",
        "colab_type": "code",
        "colab": {
          "base_uri": "https://localhost:8080/",
          "height": 54
        },
        "outputId": "0c3ec169-9137-44f6-c3be-660ae93ed042"
      },
      "source": [
        "print(x_runtime)"
      ],
      "execution_count": null,
      "outputs": [
        {
          "output_type": "stream",
          "text": [
            "['it' 'was' 'a' 'very' 'bad' 'movie' 'the' 'story' 'was' 'awful' 'and'\n",
            " 'the' 'acting' 'was' 'pathetic']\n"
          ],
          "name": "stdout"
        }
      ]
    },
    {
      "cell_type": "code",
      "metadata": {
        "id": "3lLgL1m0XTRJ",
        "colab_type": "code",
        "colab": {
          "base_uri": "https://localhost:8080/",
          "height": 35
        },
        "outputId": "3a3aac7b-6d0f-4ec6-c920-f74e7b8798b3"
      },
      "source": [
        "x_runtime=np.array([word2id.get(word,0) for word in x_runtime],dtype='object')\n",
        "print(x_runtime)"
      ],
      "execution_count": null,
      "outputs": [
        {
          "output_type": "stream",
          "text": [
            "[9 13 3 52 75 17 1 62 13 370 2 1 113 13 1232]\n"
          ],
          "name": "stdout"
        }
      ]
    },
    {
      "cell_type": "code",
      "metadata": {
        "id": "W9qASe1iW5qc",
        "colab_type": "code",
        "colab": {}
      },
      "source": [
        "x_runtime=x_runtime.reshape(1,x_runtime.shape[0])\n",
        "x_runtime=sequence.pad_sequences(x_runtime,maxlen)\n"
      ],
      "execution_count": null,
      "outputs": []
    },
    {
      "cell_type": "code",
      "metadata": {
        "id": "ucEC6xEyZ2dM",
        "colab_type": "code",
        "colab": {
          "base_uri": "https://localhost:8080/",
          "height": 35
        },
        "outputId": "7cc2da40-8190-487f-fa91-9ca42c0d02f6"
      },
      "source": [
        "print(model.predict(x_runtime))"
      ],
      "execution_count": null,
      "outputs": [
        {
          "output_type": "stream",
          "text": [
            "[[0.8531893]]\n"
          ],
          "name": "stdout"
        }
      ]
    },
    {
      "cell_type": "code",
      "metadata": {
        "id": "ycDOn7iyXASF",
        "colab_type": "code",
        "colab": {
          "base_uri": "https://localhost:8080/",
          "height": 35
        },
        "outputId": "e40309c1-008e-4739-c13f-3b6aa2e69ea9"
      },
      "source": [
        "print(x_train.dtype)"
      ],
      "execution_count": null,
      "outputs": [
        {
          "output_type": "stream",
          "text": [
            "object\n"
          ],
          "name": "stdout"
        }
      ]
    }
  ]
}